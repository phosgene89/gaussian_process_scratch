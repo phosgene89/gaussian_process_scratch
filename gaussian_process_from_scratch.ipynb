{
 "cells": [
  {
   "cell_type": "markdown",
   "metadata": {},
   "source": [
    "# Gaussian Processes in PyTorch from Scratch"
   ]
  },
  {
   "cell_type": "code",
   "execution_count": 4,
   "metadata": {},
   "outputs": [],
   "source": [
    "import matplotlib.pyplot as plt\n",
    "import torch"
   ]
  },
  {
   "cell_type": "code",
   "execution_count": 83,
   "metadata": {},
   "outputs": [],
   "source": [
    "def squared_exp(x1, x2, length_scale=1):\n",
    "    \"\"\"Squared exponential kernel.\n",
    "    \n",
    "    Operates on torch tensors.\n",
    "    \"\"\"\n",
    "    return torch.exp(-((x1-x2)**2)/(2*length_scale**2))\n",
    "\n",
    "def generate_covariance_matrix(x1, x2, kernel, length_scale=1):\n",
    "    \"\"\"Generates a kernelised covariance matrix between x1 and x2.\n",
    "    \n",
    "    Operates on torch tensors.\n",
    "    \"\"\"\n",
    "    \n",
    "    x1 = x1.reshape(-1, 1)\n",
    "    x1 = torch.cat([x1]*len(x2), axis=1)\n",
    "    \n",
    "    x2 = x2.reshape(1, -1)\n",
    "    x2 = torch.cat([x2]*len(x1), axis=0)\n",
    "    \n",
    "    K = kernel(x1, x2, length_scale)\n",
    "    \n",
    "    return K"
   ]
  },
  {
   "cell_type": "markdown",
   "metadata": {},
   "source": [
    "### Generate data"
   ]
  },
  {
   "cell_type": "code",
   "execution_count": 93,
   "metadata": {},
   "outputs": [],
   "source": [
    "N_CONTEXT = 3\n",
    "N_TARGET = 100\n",
    "LENGTH_SCALE = 3\n",
    "Z_CONFIDENCE = 1.96\n",
    "\n",
    "def data_gen_function(x):\n",
    "    \n",
    "    y = x**3\n",
    "    y = (y - torch.mean(y))/torch.std(y)\n",
    "    \n",
    "    return y\n",
    "\n",
    "x_ground_truth = torch.linspace(0, 10, 500)\n",
    "y_ground_truth = data_gen_function(x_ground_truth)\n",
    "\n",
    "x_context = torch.rand((N_CONTEXT))*10\n",
    "y_context = data_gen_function(x_context) + torch.randn((N_CONTEXT))\n",
    "\n",
    "x_target = torch.linspace(0, 10, N_TARGET)"
   ]
  },
  {
   "cell_type": "markdown",
   "metadata": {},
   "source": [
    "### Calculate covariance matrices"
   ]
  },
  {
   "cell_type": "code",
   "execution_count": 94,
   "metadata": {},
   "outputs": [],
   "source": [
    "K_11 = generate_covariance_matrix(x_target,\n",
    "                                  x_target,\n",
    "                                  squared_exp,\n",
    "                                  length_scale=LENGTH_SCALE)\n",
    "K_12 = generate_covariance_matrix(x_target,\n",
    "                                  x_context,\n",
    "                                  squared_exp,\n",
    "                                  length_scale=LENGTH_SCALE)\n",
    "K_22 = generate_covariance_matrix(x_context,\n",
    "                                  x_context,\n",
    "                                  squared_exp,\n",
    "                                  length_scale=LENGTH_SCALE)\n",
    "\n",
    "# Calculate inverse of K_22 using Cholesky decomposition. This is more efficient but can only\n",
    "# be done on positive-definite or positive-semidefinite matrices.\n",
    "\n",
    "# To make this part stable we need to add noise to the diagonal.\n",
    "stability_noise = torch.eye(len(x_context)) * 2e-2\n",
    "L = torch.linalg.cholesky(K_22 + stability_noise)\n",
    "L_inv = torch.linalg.inv(L)\n",
    "K_22_inverse = L_inv.T @ L_inv"
   ]
  },
  {
   "cell_type": "markdown",
   "metadata": {},
   "source": [
    "### Get mean and standard deviations for predictions\n",
    "Let $(x_{1}, y_{1})$ be the prediction inputs and targets, and $(x_{2}, y_{2})$ be the context inputs and targets. $\\Sigma_{ij}$ denotes the covariance matrix between $y_{i}$ and $y_{j}$.\n",
    "\n",
    "Assuming $y_{1} \\cup y_{2}$ are jointly Gaussian, we have that:\n",
    "\n",
    "$$E[y_{1}|y_{2}] = \\mu_{1} + \\Sigma_{12}\\Sigma_{22}^{-1}(\\mu_{2}-y_{2})$$\n",
    "\n",
    "$$Var(y_{1}|y_{2}) = \\Sigma_{11} - \\Sigma_{12} \\Sigma_{22}^{-1} \\Sigma_{21}$$\n",
    "\n",
    "These are simply the conditional probabilites for mulivariate Gaussian distributions."
   ]
  },
  {
   "cell_type": "code",
   "execution_count": 95,
   "metadata": {},
   "outputs": [
    {
     "data": {
      "image/png": "[encoded data removed]",
      "text/plain": [
       "<Figure size 432x288 with 1 Axes>"
      ]
     },
     "metadata": {
      "needs_background": "light"
     },
     "output_type": "display_data"
    }
   ],
   "source": [
    "target_means = K_12 @ K_22_inverse\n",
    "target_means = (target_means @ y_context.reshape(-1, 1)).reshape(-1)\n",
    "\n",
    "target_var = torch.diag(K_11 - K_12 @ K_22_inverse @ K_12.T)\n",
    "uncertainty = torch.sqrt(target_var)\n",
    "\n",
    "plt.plot(x_target, target_means, label=\"Pred\")\n",
    "plt.plot(x_ground_truth, y_ground_truth, label=\"Ground truth\", linestyle='--')\n",
    "plt.scatter(x_context, y_context, label='Context', color='black', s=12)\n",
    "plt.fill_between(x_target,\n",
    "                 target_means - Z_CONFIDENCE*uncertainty,\n",
    "                 target_means + Z_CONFIDENCE*uncertainty,\n",
    "                 alpha=0.2,\n",
    "                 label=\"Uncertainty\")\n",
    "plt.legend()\n",
    "plt.xlabel(\"x\")\n",
    "plt.ylabel(\"y\")\n",
    "plt.title(\"Gaussian process results\")\n",
    "plt.show()"
   ]
  },
  {
   "cell_type": "code",
   "execution_count": null,
   "metadata": {},
   "outputs": [],
   "source": []
  },
  {
   "cell_type": "code",
   "execution_count": null,
   "metadata": {},
   "outputs": [],
   "source": []
  },
  {
   "cell_type": "code",
   "execution_count": null,
   "metadata": {},
   "outputs": [],
   "source": []
  }
 ],
 "metadata": {
  "kernelspec": {
   "display_name": "Python 3 (ipykernel)",
   "language": "python",
   "name": "python3"
  },
  "language_info": {
   "codemirror_mode": {
    "name": "ipython",
    "version": 3
   },
   "file_extension": ".py",
   "mimetype": "text/x-python",
   "name": "python",
   "nbconvert_exporter": "python",
   "pygments_lexer": "ipython3",
   "version": "3.9.10"
  }
 },
 "nbformat": 4,
 "nbformat_minor": 4
}
