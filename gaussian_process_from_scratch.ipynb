{
 "cells": [
  {
   "cell_type": "code",
   "execution_count": 10,
   "metadata": {},
   "outputs": [],
   "source": [
    "import numpy as np\n",
    "import matplotlib.pyplot as plt\n",
    "from sklearn.datasets import make_spd_matrix"
   ]
  },
  {
   "cell_type": "code",
   "execution_count": 11,
   "metadata": {},
   "outputs": [],
   "source": [
    "DIM = 200\n",
    "PRED_DIM = 10\n",
    "LENGTH_SCALE = 3\n",
    "\n",
    "def data_generator(x, noise=True):\n",
    "    return np.sin(x/10)*x/10 + np.random.normal(0, .1, len(x))*noise"
   ]
  },
  {
   "cell_type": "code",
   "execution_count": 12,
   "metadata": {},
   "outputs": [],
   "source": [
    "def squared_exp_kernel(x, x_dash, length_scale):\n",
    "    return length_scale * np.exp(-(x-x_dash)**2/(2*length_scale**2))\n",
    "\n",
    "def gen_cov_matrix(dim, kernel, length_scale):\n",
    "    \n",
    "    cov_matrix = np.zeros((dim, dim))\n",
    "\n",
    "    for i in range(dim):\n",
    "        for j in range(dim):\n",
    "            cov_matrix[i][j] = kernel(i, j, length_scale)\n",
    "            \n",
    "    return cov_matrix\n",
    "\n",
    "cov_matrix = gen_cov_matrix(DIM, squared_exp_kernel, LENGTH_SCALE)"
   ]
  },
  {
   "cell_type": "markdown",
   "metadata": {},
   "source": [
    "To generate values of a multivariate normal distribution conditioned on the values of the distribution being known in several dimensions, we need to split up the covariance matrix $\\Sigma$ into covariance between the training and testing points. We obtain:\n",
    "\n",
    "$$\\Sigma = \\begin{bmatrix} \\Sigma_{11} & \\Sigma_{12} \\\\ \\Sigma_{21} & \\Sigma_{22} \\end{bmatrix}$$\n",
    "\n",
    "$\\Sigma_{12}$ refers to the covariance matrix between training points. $\\Sigma_{12}$ and $\\Sigma_{21}$ refer to the covariance between training and test points and test and training points, respectively. $\\Sigma_{22}$ refers to the covariance matrix between test points."
   ]
  },
  {
   "cell_type": "code",
   "execution_count": 13,
   "metadata": {},
   "outputs": [],
   "source": [
    "total_idx = np.arange(0, DIM)\n",
    "train_idx = np.sort(np.random.choice(total_idx, DIM-PRED_DIM, replace=False))\n",
    "pred_idx = np.array(list(set(total_idx) - set(train_idx)))\n",
    "\n",
    "train_data = data_generator(train_idx)\n",
    "test_data = data_generator(pred_idx)\n",
    "\n",
    "sigma_11 = cov_matrix[pred_idx][:,pred_idx]\n",
    "sigma_12 = cov_matrix[pred_idx][:,train_idx]\n",
    "sigma_21 = cov_matrix[train_idx][:,pred_idx]\n",
    "sigma_22 = cov_matrix[train_idx][:,train_idx]\n",
    "\n",
    "class GaussianProcess():\n",
    "    def __init__(self, kernel, length_scale):\n",
    "        self.kernel = kernel\n",
    "        self.length_scale = length_scale\n",
    "        self.sigma_22 = None\n",
    "        self.sigma_22_inv = None\n",
    "        self.X_train = None\n",
    "        self.y_train = None\n",
    "        \n",
    "    def get_cov_matrix(self, X_1, X_2):\n",
    "        dim = len(y)\n",
    "        cov_matrix = np.zeros((dim, dim))\n",
    "\n",
    "        for i in range(dim):\n",
    "            for j in range(dim):\n",
    "                cov_matrix[i][j] = self.kernel(X_1[i], X_2[j], self.length_scale)\n",
    "\n",
    "        return cov_matrix\n",
    "        \n",
    "    def fit(self, X, y):\n",
    "        self.sigma_22 = self.get_cov_matrix(X, X)\n",
    "        self.sigma_22_inv = np.linalg.pinv(self.sigma_22)\n",
    "        self.X_train = X\n",
    "        self.y_train = y\n",
    "        \n",
    "    def predict(self, X):\n",
    "        sigma_11 = self.get_cov_matrix(X, X)\n",
    "        sigma_12 = self.get_cov_matrix(X, self.X_train)\n",
    "        sigma_21 = sigma_12.T\n",
    "        \n",
    "        sigma_12_sigma_22_inv = np.matmul(sigma_12, self.sigma_22_inv)\n",
    "        \n",
    "        predicted_means = np.matmul(sigma_12_sigma_22_inv, self.y_train.reshape(-1, 1))\n",
    "        pred_cov_matrix = sigma_11 - np.matmul(np.matmul(sigma_12, self.sigma_22_inv), sigma_21)\n",
    "        \n",
    "        pred_samples = []\n",
    "        \n",
    "        for i in range(30):\n",
    "            preds = np.random.multivariate_normal(predicted_means.reshape(-1), pred_cov_matrix)\n",
    "            pred_samples.append(preds)\n",
    "\n",
    "        pred_std = np.std(pred_samples, axis=0)\n",
    "        \n",
    "        return predicted_means, pred_std, pred_samples"
   ]
  },
  {
   "cell_type": "code",
   "execution_count": 14,
   "metadata": {},
   "outputs": [],
   "source": [
    "gp = GaussianProcess(squared_exp_kernel, LENGTH_SCALE)"
   ]
  },
  {
   "cell_type": "code",
   "execution_count": 15,
   "metadata": {},
   "outputs": [],
   "source": [
    "x = np.linspace(0,10, 100)\n",
    "y = data_generator(x)\n",
    "\n",
    "x_test = np.sort(np.random.uniform(0, 10, 100))\n",
    "y_test = data_generator(x_test)"
   ]
  },
  {
   "cell_type": "code",
   "execution_count": 16,
   "metadata": {},
   "outputs": [
    {
     "name": "stderr",
     "output_type": "stream",
     "text": [
      "/home/greg/standard_env/lib/python3.6/site-packages/xpython_launcher.py:51: RuntimeWarning: covariance is not positive-semidefinite.\n"
     ]
    }
   ],
   "source": [
    "gp.fit(x_test, y_test)\n",
    "\n",
    "train_preds, train_std, train_pred_samples, = gp.predict(x)\n",
    "test_preds, test_std, test_pred_samples = gp.predict(x_test)"
   ]
  },
  {
   "cell_type": "code",
   "execution_count": 17,
   "metadata": {},
   "outputs": [],
   "source": [
    "plt.plot(x_test, test_preds, label=\"Predicted curve\")\n",
    "#plt.fill_between(x_test, test_preds.reshape(-1)-1.96*test_std, test_preds.reshape(-1)+1.96*test_std, alpha=0.3)\n",
    "\n",
    "plt.plot(np.linspace(0, 10, 1000), data_generator(np.linspace(0, 10, 1000), False), label=\"f(x)\", linestyle='--', color='red')\n",
    "plt.scatter(x_test, y_test, s=4, c='black', label=\"Ground truths\")\n",
    "plt.legend()\n",
    "\n",
    "for i in range(len(test_pred_samples)):\n",
    "    plt.plot(x_test, test_pred_samples[i], alpha=0.2)\n",
    "\n",
    "plt.show()"
   ]
  },
  {
   "cell_type": "code",
   "execution_count": null,
   "metadata": {},
   "outputs": [],
   "source": []
  },
  {
   "cell_type": "code",
   "execution_count": null,
   "metadata": {},
   "outputs": [],
   "source": []
  }
 ],
 "metadata": {
  "kernelspec": {
   "display_name": "Python 3.6 (XPython)",
   "language": "python",
   "name": "xpython"
  },
  "language_info": {
   "file_extension": ".py",
   "mimetype": "text/x-python",
   "name": "python",
   "version": "3.6.12"
  }
 },
 "nbformat": 4,
 "nbformat_minor": 4
}
